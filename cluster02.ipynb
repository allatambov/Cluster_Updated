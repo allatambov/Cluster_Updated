{
 "cells": [
  {
   "cell_type": "markdown",
   "metadata": {},
   "source": [
    "# Линейная алгебра и её приложения в многомерной статистике\n",
    "## Практикум 2. Кластеризация методом k-means\n",
    "*Алла Тамбовцева*"
   ]
  },
  {
   "cell_type": "markdown",
   "metadata": {},
   "source": [
    "### Подготовка к работе\n",
    "\n",
    "В этом практикуме мы продолжим работать с данными по районам Балтимора из файла `Baltimore_data.csv`. Только вместо иерархической кластеризации воспользуемся методом k-means (однако сначала вспомним, как выглядела дендрограмма, чтобы выбрать число кластеров $k$ для k-means).\n",
    "\n",
    "В файле `Baltimore_data.csv` собраны показатели, которые можно считать характеристиками благополучия района, в том числе с точки зрения покупки в этом районе жилья:\n",
    "\n",
    "* `CSA2010`: название укрупненного района, по которому ведётся сбор статистических данных (*Community Statistical Area*), в соответствии с делением в 2010 году;\n",
    "* `trees17`: процент деревьев в районе по состоянию на 2017 год (подробнее [здесь](https://data.baltimorecity.gov/maps/e8b7beca0fd649b1a77c58fafc4658a9/about));\n",
    "* `racdiv21`: индекс расового/этнического разнообразия за 2021 год, более высокие значения – более высокое разнообразие (подробнее [здесь](https://data.baltimorecity.gov/maps/d588f7de06cf4815951e105bb8a390b1/about));\n",
    "* `viol21`: число тяжких преступлений на 1000 жителей в 2021 году, включает число убийств, изнасилований, нападения, грабежи (подробнее [здесь](https://data.baltimorecity.gov/maps/ab03385abf3b4f50aec0b090caa8877a/about));\n",
    "* `salepr19`: медианная цена продажи жилья в районе за 2019 год.\n",
    "\n",
    "Импортируем необходимые библиотеки и функции:\n",
    "\n",
    "* библиотека `pandas` для работы с таблицами;\n",
    "* функции `linkage`, `dendrogram`, `cut_tree` из набора `hierarchy` модуля `cluster` библиотеки `scipy` для иерархического кластерного анализа;\n",
    "* функцию `KMeans` из модуля `cluster` библиотеки `sklearn` для реализации кластерного анализа методом k-means. "
   ]
  },
  {
   "cell_type": "code",
   "execution_count": 1,
   "metadata": {},
   "outputs": [],
   "source": [
    "import pandas as pd\n",
    "\n",
    "from scipy.cluster.hierarchy import linkage, dendrogram, cut_tree, distance\n",
    "from sklearn.cluster import KMeans"
   ]
  },
  {
   "cell_type": "markdown",
   "metadata": {},
   "source": [
    "Если библиотека `sklearn` не установлена (ошибка *no module...*), её нужно установить через `pip`:\n",
    "\n",
    "    !pip install sklearn\n",
    "    \n",
    "Загрузим данные из файла и сразу вынесем столбец с названиями районов `CSA2010` в названия строк, добавив аргумент `index_col`:"
   ]
  },
  {
   "cell_type": "code",
   "execution_count": 2,
   "metadata": {},
   "outputs": [],
   "source": [
    "df = pd.read_csv(\"Baltimore/Baltimore_data.csv\", index_col = \"CSA2010\")"
   ]
  },
  {
   "cell_type": "markdown",
   "metadata": {},
   "source": [
    "Удалим ненужный столбец `Unnamed: 0`:"
   ]
  },
  {
   "cell_type": "code",
   "execution_count": 3,
   "metadata": {},
   "outputs": [],
   "source": [
    "df = df.drop(columns = [\"Unnamed: 0\"])"
   ]
  },
  {
   "cell_type": "markdown",
   "metadata": {},
   "source": [
    "Выполним центрирование и нормирование данных (ранее выполняли, подробнее – см. практикум 1):"
   ]
  },
  {
   "cell_type": "code",
   "execution_count": 4,
   "metadata": {},
   "outputs": [],
   "source": [
    "to_clust = (df - df.mean()) / df.std()"
   ]
  },
  {
   "cell_type": "markdown",
   "metadata": {},
   "source": [
    "### Вспоминаем иерархический кластерный анализ и выбираем число кластеров"
   ]
  },
  {
   "cell_type": "markdown",
   "metadata": {},
   "source": [
    "Реализуем иерархический кластерный анализ, выбрав метод Варда в качестве метода агрегирования (Python сам выберет подходящее расстояние – квадрат евклидова) и построим дедрограмму: "
   ]
  },
  {
   "cell_type": "code",
   "execution_count": 6,
   "metadata": {},
   "outputs": [
    {
     "data": {
      "image/png": "[encoded data removed]",
      "text/plain": [
       "<Figure size 432x288 with 1 Axes>"
      ]
     },
     "metadata": {
      "needs_background": "light"
     },
     "output_type": "display_data"
    }
   ],
   "source": [
    "hc = linkage(to_clust, method = \"ward\")\n",
    "dendrogram(hc);"
   ]
  },
  {
   "cell_type": "markdown",
   "metadata": {},
   "source": [
    "В прошлый раз мы остановились на трёх кластерах. Воспользуемся функцией `cut_tree()`, чтобы «разрезать» дендрограмму на три ветки и получить метки кластеров от 0 до 2:"
   ]
  },
  {
   "cell_type": "code",
   "execution_count": 7,
   "metadata": {},
   "outputs": [
    {
     "name": "stdout",
     "output_type": "stream",
     "text": [
      "[0 1 0 2 2 1 0 1 2 0 1 1 1 2 1 2 1 2 2 0 0 1 0 0 1 2 1 2 1 2 1 1 2 1 2 0 2\n",
      " 1 1 1 2 2 2 0 0 2 0 2 2 0 2 2 0 2 2]\n"
     ]
    }
   ],
   "source": [
    "# подробнее про reshape() – см практикум 1\n",
    "\n",
    "clusters_ward = cut_tree(hc, n_clusters = 3).reshape(-1, )\n",
    "print(clusters_ward)"
   ]
  },
  {
   "cell_type": "markdown",
   "metadata": {},
   "source": [
    "**Важно:** нет гарантиии, что Python занумерует кластеры ровно так же, как на дендрограмме, слева направо (самый левый кластер – номер 0, самый правый – номер 2), поэтому при оценке результатов или сравнении разных способов кластеризации стоит ориентироваться не на номера групп, а на то, какие наблюдения туда входят и на то, похож ли состав групп в разных вариантах деления на кластеры)."
   ]
  },
  {
   "cell_type": "markdown",
   "metadata": {},
   "source": [
    "### Реализуем кластеризацию методом k-means"
   ]
  },
  {
   "cell_type": "markdown",
   "metadata": {},
   "source": [
    "Теперь реализуем кластерный анализ методом k-means с числом кластеров $k=3$. Так как на первом шаге алгоритм распределяет наблюдения на кластеры случайно (точнее, случайно «расставляет» центроиды и на основе близости к ним относит наблюдения к группам), для воспроизводимости результатов зафиксируем стартовую точку алгоритма `random_state`:"
   ]
  },
  {
   "cell_type": "code",
   "execution_count": 8,
   "metadata": {},
   "outputs": [],
   "source": [
    "# random_state – любое целое неотрицательное число\n",
    "# если все укажем 1234, результаты должны получиться одинаковыми\n",
    "\n",
    "kmeans = KMeans(n_clusters=3, random_state=1234).fit(to_clust)"
   ]
  },
  {
   "cell_type": "markdown",
   "metadata": {},
   "source": [
    "**Поянения к коду.** Функция `KMeans()` создаёт объект класса `sklearn.cluster._kmeans.KMeans`, на него можно смотреть как на хранилище результатов, из которого можно извлечь отдельные элементы, например, метки кластеров, координаты центроидов, число итераций, которое потребовалось для получения итогового деления на группы. Часть кода `KMeans(n_clusters=3, random_state=1234)` резервирует место под «пустое» хранилище для результатов деления на три кластера, а метод `.fit()` применяет алгоритм кластеризации к данным `to_clust`. "
   ]
  },
  {
   "cell_type": "markdown",
   "metadata": {},
   "source": [
    "Для примера запросим координаты центроидов (окончательные центры кластеры, которые получились по итогам деления на группы) – их должно быть три:"
   ]
  },
  {
   "cell_type": "code",
   "execution_count": 9,
   "metadata": {},
   "outputs": [
    {
     "data": {
      "text/plain": [
       "array([[-0.31873547, -0.87866307,  0.70297807, -0.83827786],\n",
       "       [-0.70183636,  0.89607088,  0.10880749,  0.39928047],\n",
       "       [ 1.1406391 , -0.01945579, -0.90728975,  0.49064415]])"
      ]
     },
     "execution_count": 9,
     "metadata": {},
     "output_type": "execute_result"
    }
   ],
   "source": [
    "# три центра, пространство четырехмерное – четыре показателя (столбца) на входе\n",
    "# три массива из четырех значений\n",
    "\n",
    "kmeans.cluster_centers_"
   ]
  },
  {
   "cell_type": "markdown",
   "metadata": {},
   "source": [
    "Теперь запросим метки кластеров:"
   ]
  },
  {
   "cell_type": "code",
   "execution_count": 10,
   "metadata": {},
   "outputs": [
    {
     "name": "stdout",
     "output_type": "stream",
     "text": [
      "[0 2 0 1 1 2 0 2 1 0 2 2 0 1 2 1 2 1 1 0 0 2 0 0 2 1 2 1 2 1 2 2 0 2 1 0 1\n",
      " 2 2 2 0 1 1 0 0 0 0 1 1 0 0 1 0 1 1]\n"
     ]
    }
   ],
   "source": [
    "clusters_kmeans = kmeans.labels_\n",
    "print(clusters_kmeans)"
   ]
  },
  {
   "cell_type": "markdown",
   "metadata": {},
   "source": [
    "Если мы сравним метки кластеров с тем, что было получено ранее по результатом иерархической кластеризации методом Варда, мы увидим, что они разные:"
   ]
  },
  {
   "cell_type": "code",
   "execution_count": 11,
   "metadata": {},
   "outputs": [
    {
     "name": "stdout",
     "output_type": "stream",
     "text": [
      "[0 1 0 2 2 1 0 1 2 0 1 1 1 2 1 2 1 2 2 0 0 1 0 0 1 2 1 2 1 2 1 1 2 1 2 0 2\n",
      " 1 1 1 2 2 2 0 0 2 0 2 2 0 2 2 0 2 2]\n",
      "[0 2 0 1 1 2 0 2 1 0 2 2 0 1 2 1 2 1 1 0 0 2 0 0 2 1 2 1 2 1 2 2 0 2 1 0 1\n",
      " 2 2 2 0 1 1 0 0 0 0 1 1 0 0 1 0 1 1]\n"
     ]
    }
   ],
   "source": [
    "print(clusters_ward)\n",
    "print(clusters_kmeans)"
   ]
  },
  {
   "cell_type": "markdown",
   "metadata": {},
   "source": [
    "Однако это не значит, что результаты кардинально отличаются, просто Python по-разному занумеровал кластеры в первом и втором случае. Для сравнения имеет смысл сохранить и те, и другие метки кластеров в исходный датафрейм, а затем отфильтровать соответствующие наблюдения и сравнить состав групп. \n",
    "\n",
    "Главный вопрос: зачем это делать, если считается, что метод k-means даёт более точные результаты? Не всегда более точный метод может дать понятные и интересные с содержательной точки зрения кластеры, так как не всегда деление на группы стоит основывать исключительно на средних значениях показателей."
   ]
  },
  {
   "cell_type": "markdown",
   "metadata": {},
   "source": [
    "### Сравниваем результаты иерархической кластеризации и кластеризации методом k-means"
   ]
  },
  {
   "cell_type": "markdown",
   "metadata": {},
   "source": [
    "Добавим столбцы с метками кластеров в датафрейм `df` (в `to_clust` можно, но в `df` данные до стандартизации – более понятные):"
   ]
  },
  {
   "cell_type": "code",
   "execution_count": 12,
   "metadata": {},
   "outputs": [],
   "source": [
    "df[\"ward\"] =  clusters_ward\n",
    "df[\"kmeans\"] = clusters_kmeans"
   ]
  },
  {
   "cell_type": "code",
   "execution_count": 13,
   "metadata": {},
   "outputs": [
    {
     "data": {
      "text/html": [
       "<div>\n",
       "<style scoped>\n",
       "    .dataframe tbody tr th:only-of-type {\n",
       "        vertical-align: middle;\n",
       "    }\n",
       "\n",
       "    .dataframe tbody tr th {\n",
       "        vertical-align: top;\n",
       "    }\n",
       "\n",
       "    .dataframe thead th {\n",
       "        text-align: right;\n",
       "    }\n",
       "</style>\n",
       "<table border=\"1\" class=\"dataframe\">\n",
       "  <thead>\n",
       "    <tr style=\"text-align: right;\">\n",
       "      <th></th>\n",
       "      <th>trees17</th>\n",
       "      <th>racdiv21</th>\n",
       "      <th>viol21</th>\n",
       "      <th>salepr19</th>\n",
       "      <th>ward</th>\n",
       "      <th>kmeans</th>\n",
       "    </tr>\n",
       "    <tr>\n",
       "      <th>CSA2010</th>\n",
       "      <th></th>\n",
       "      <th></th>\n",
       "      <th></th>\n",
       "      <th></th>\n",
       "      <th></th>\n",
       "      <th></th>\n",
       "    </tr>\n",
       "  </thead>\n",
       "  <tbody>\n",
       "    <tr>\n",
       "      <th>Allendale/Irvington/S. Hilton</th>\n",
       "      <td>32.372913</td>\n",
       "      <td>24.604789</td>\n",
       "      <td>17.264634</td>\n",
       "      <td>77250.0</td>\n",
       "      <td>0</td>\n",
       "      <td>0</td>\n",
       "    </tr>\n",
       "    <tr>\n",
       "      <th>Beechfield/Ten Hills/West Hills</th>\n",
       "      <td>48.696974</td>\n",
       "      <td>52.412494</td>\n",
       "      <td>11.007200</td>\n",
       "      <td>149000.0</td>\n",
       "      <td>1</td>\n",
       "      <td>2</td>\n",
       "    </tr>\n",
       "    <tr>\n",
       "      <th>Belair-Edison</th>\n",
       "      <td>20.827125</td>\n",
       "      <td>23.826836</td>\n",
       "      <td>16.837918</td>\n",
       "      <td>89758.0</td>\n",
       "      <td>0</td>\n",
       "      <td>0</td>\n",
       "    </tr>\n",
       "    <tr>\n",
       "      <th>Brooklyn/Curtis Bay/Hawkins Point</th>\n",
       "      <td>14.631858</td>\n",
       "      <td>80.860745</td>\n",
       "      <td>18.028044</td>\n",
       "      <td>57000.0</td>\n",
       "      <td>2</td>\n",
       "      <td>1</td>\n",
       "    </tr>\n",
       "    <tr>\n",
       "      <th>Canton</th>\n",
       "      <td>12.516619</td>\n",
       "      <td>40.504514</td>\n",
       "      <td>6.796941</td>\n",
       "      <td>275000.0</td>\n",
       "      <td>2</td>\n",
       "      <td>1</td>\n",
       "    </tr>\n",
       "  </tbody>\n",
       "</table>\n",
       "</div>"
      ],
      "text/plain": [
       "                                     trees17   racdiv21     viol21  salepr19  \\\n",
       "CSA2010                                                                        \n",
       "Allendale/Irvington/S. Hilton      32.372913  24.604789  17.264634   77250.0   \n",
       "Beechfield/Ten Hills/West Hills    48.696974  52.412494  11.007200  149000.0   \n",
       "Belair-Edison                      20.827125  23.826836  16.837918   89758.0   \n",
       "Brooklyn/Curtis Bay/Hawkins Point  14.631858  80.860745  18.028044   57000.0   \n",
       "Canton                             12.516619  40.504514   6.796941  275000.0   \n",
       "\n",
       "                                   ward  kmeans  \n",
       "CSA2010                                          \n",
       "Allendale/Irvington/S. Hilton         0       0  \n",
       "Beechfield/Ten Hills/West Hills       1       2  \n",
       "Belair-Edison                         0       0  \n",
       "Brooklyn/Curtis Bay/Hawkins Point     2       1  \n",
       "Canton                                2       1  "
      ]
     },
     "execution_count": 13,
     "metadata": {},
     "output_type": "execute_result"
    }
   ],
   "source": [
    "df.head()"
   ]
  },
  {
   "cell_type": "markdown",
   "metadata": {},
   "source": [
    "Отфильтруем строки, соответствующие каждому кластеру, по итогам иерархической кластеризации:"
   ]
  },
  {
   "cell_type": "code",
   "execution_count": 14,
   "metadata": {},
   "outputs": [],
   "source": [
    "cluster0_ward = df[df[\"ward\"] == 0]\n",
    "cluster1_ward = df[df[\"ward\"] == 1]\n",
    "cluster2_ward = df[df[\"ward\"] == 2]"
   ]
  },
  {
   "cell_type": "markdown",
   "metadata": {},
   "source": [
    "Посмотрим на районы в кластерах 0, 1 и 2:"
   ]
  },
  {
   "cell_type": "code",
   "execution_count": 15,
   "metadata": {},
   "outputs": [
    {
     "name": "stdout",
     "output_type": "stream",
     "text": [
      "0 ['Allendale/Irvington/S. Hilton', 'Belair-Edison', 'Cherry Hill', 'Clifton-Berea', 'Greater Govans', 'Greater Mondawmin', 'Greater Rosemont', 'Greenmount East', 'Midway/Coldstream', 'Penn North/Reservoir Hill', 'Pimlico/Arlington/Hilltop', 'Sandtown-Winchester/Harlem Park', 'Southern Park Heights', 'Upton/Druid Heights']\n",
      "1 ['Beechfield/Ten Hills/West Hills', 'Cedonia/Frankford', 'Chinquapin Park/Belvedere', 'Cross-Country/Cheswolde', 'Dickeyville/Franklintown', 'Dorchester/Ashburton', 'Edmondson Village', 'Forest Park/Walbrook', 'Greater Roland Park/Poplar Hill', 'Hamilton', 'Harford/Echodale', 'Howard Park/West Arlington', 'Lauraville', 'Loch Raven', 'Medfield/Hampden/Woodberry/Remington', 'Mount Washington/Coldspring', 'North Baltimore/Guilford/Homeland', 'Northwood']\n",
      "2 ['Brooklyn/Curtis Bay/Hawkins Point', 'Canton', 'Claremont/Armistead', 'Downtown/Seton Hill', 'Fells Point', 'Glen-Fallstaff', 'Greater Charles Village/Barclay', 'Harbor East/Little Italy', 'Highlandtown', 'Inner Harbor/Federal Hill', 'Madison/East End', 'Midtown', 'Morrell Park/Violetville', 'Oldtown/Middle East', 'Orangeville/East Highlandtown', 'Patterson Park North & East', 'Poppleton/The Terraces/Hollins Market', 'South Baltimore', 'Southeastern', 'Southwest Baltimore', 'The Waverlies', 'Washington Village/Pigtown', 'Westport/Mount Winans/Lakeland']\n"
     ]
    }
   ],
   "source": [
    "# .index, потому что названия районов сохранены как названия строк\n",
    "# sorted() – сортируем по алфавиту для удобства\n",
    "\n",
    "print(\"0\", sorted(cluster0_ward.index))\n",
    "print(\"1\", sorted(cluster1_ward.index))\n",
    "print(\"2\", sorted(cluster2_ward.index))"
   ]
  },
  {
   "cell_type": "markdown",
   "metadata": {},
   "source": [
    "Проделаем то же для результатов k-means:"
   ]
  },
  {
   "cell_type": "code",
   "execution_count": 16,
   "metadata": {},
   "outputs": [
    {
     "name": "stdout",
     "output_type": "stream",
     "text": [
      "0 ['Allendale/Irvington/S. Hilton', 'Belair-Edison', 'Cherry Hill', 'Clifton-Berea', 'Dorchester/Ashburton', 'Greater Govans', 'Greater Mondawmin', 'Greater Rosemont', 'Greenmount East', 'Madison/East End', 'Midway/Coldstream', 'Oldtown/Middle East', 'Penn North/Reservoir Hill', 'Pimlico/Arlington/Hilltop', 'Poppleton/The Terraces/Hollins Market', 'Sandtown-Winchester/Harlem Park', 'Southern Park Heights', 'Southwest Baltimore', 'Upton/Druid Heights']\n",
      "1 ['Brooklyn/Curtis Bay/Hawkins Point', 'Canton', 'Claremont/Armistead', 'Downtown/Seton Hill', 'Fells Point', 'Glen-Fallstaff', 'Greater Charles Village/Barclay', 'Harbor East/Little Italy', 'Highlandtown', 'Inner Harbor/Federal Hill', 'Midtown', 'Morrell Park/Violetville', 'Orangeville/East Highlandtown', 'Patterson Park North & East', 'South Baltimore', 'Southeastern', 'The Waverlies', 'Washington Village/Pigtown', 'Westport/Mount Winans/Lakeland']\n",
      "2 ['Beechfield/Ten Hills/West Hills', 'Cedonia/Frankford', 'Chinquapin Park/Belvedere', 'Cross-Country/Cheswolde', 'Dickeyville/Franklintown', 'Edmondson Village', 'Forest Park/Walbrook', 'Greater Roland Park/Poplar Hill', 'Hamilton', 'Harford/Echodale', 'Howard Park/West Arlington', 'Lauraville', 'Loch Raven', 'Medfield/Hampden/Woodberry/Remington', 'Mount Washington/Coldspring', 'North Baltimore/Guilford/Homeland', 'Northwood']\n"
     ]
    }
   ],
   "source": [
    "cluster0_kmeans = df[df[\"kmeans\"] == 0]\n",
    "cluster1_kmeans = df[df[\"kmeans\"] == 1]\n",
    "cluster2_kmeans = df[df[\"kmeans\"] == 2]\n",
    "\n",
    "print(\"0\", sorted(cluster0_kmeans.index))\n",
    "print(\"1\", sorted(cluster1_kmeans.index))\n",
    "print(\"2\", sorted(cluster2_kmeans.index))"
   ]
  },
  {
   "cell_type": "markdown",
   "metadata": {},
   "source": [
    "При внимательном изучении списков можно установить, какие кластеры по итогам иерархической кластеризации и k-means получились наиболее похожими. Если смотреть на вопрос сравнения более формально, можем перейти к множествам и установить, какие кластеры содержат наибольшее число совпадений:"
   ]
  },
  {
   "cell_type": "code",
   "execution_count": 17,
   "metadata": {},
   "outputs": [],
   "source": [
    "# превращаем в множества, множество - set\n",
    "\n",
    "set0_ward = set(cluster0_ward.index)\n",
    "set1_ward = set(cluster1_ward.index)\n",
    "set2_ward = set(cluster2_ward.index)\n",
    "\n",
    "set0_kmeans = set(cluster0_kmeans.index)\n",
    "set1_kmeans = set(cluster1_kmeans.index)\n",
    "set2_kmeans = set(cluster2_kmeans.index)"
   ]
  },
  {
   "cell_type": "markdown",
   "metadata": {},
   "source": [
    "Сравниваем каждый кластер из `_ward` с каждым кластером из `_kmeans` (не кластеры `_ward` между собой и\n",
    "не кластеры `_kmeans` между собой, кластеры в рамках одного метода не пересекаются), чтобы понять, какие кластеры похожи больше всего:"
   ]
  },
  {
   "cell_type": "code",
   "execution_count": 18,
   "metadata": {},
   "outputs": [
    {
     "name": "stdout",
     "output_type": "stream",
     "text": [
      "14\n",
      "0\n",
      "0\n"
     ]
    }
   ],
   "source": [
    "# метод .intersection() на множествах – пересечение\n",
    "# len() – считаем число элементов в пересечении\n",
    "\n",
    "# кластер 0 по методу Варда\n",
    "print(len(set0_ward.intersection(set0_kmeans)))\n",
    "print(len(set0_ward.intersection(set1_kmeans)))\n",
    "print(len(set0_ward.intersection(set2_kmeans)))"
   ]
  },
  {
   "cell_type": "markdown",
   "metadata": {},
   "source": [
    "Очевидно, что кластер 0 по итогам кластеризации методом Варда и кластер 0 по итогам k-means – самые похожие. Это не означает, что они полностью совпадают, просто совпадений больше всего. Проделаем эти операции для двух оставшихся кластеров, чтобы понимать, какие группы имеет смысл сравнивать при решении, результаты какой кластеризации нам подходят больше:"
   ]
  },
  {
   "cell_type": "code",
   "execution_count": 19,
   "metadata": {},
   "outputs": [
    {
     "name": "stdout",
     "output_type": "stream",
     "text": [
      "1\n",
      "0\n",
      "17\n"
     ]
    }
   ],
   "source": [
    "# кластер 1 по методу Варда \n",
    "# больше всего совпадений с кластером 2 по k-means\n",
    "\n",
    "print(len(set1_ward.intersection(set0_kmeans)))\n",
    "print(len(set1_ward.intersection(set1_kmeans)))\n",
    "print(len(set1_ward.intersection(set2_kmeans)))"
   ]
  },
  {
   "cell_type": "code",
   "execution_count": 20,
   "metadata": {},
   "outputs": [
    {
     "name": "stdout",
     "output_type": "stream",
     "text": [
      "4\n",
      "19\n",
      "0\n"
     ]
    }
   ],
   "source": [
    "# кластер 2 по методу Варда \n",
    "# больше всего совпадений с кластером 1 по k-means\n",
    "\n",
    "print(len(set2_ward.intersection(set0_kmeans)))\n",
    "print(len(set2_ward.intersection(set1_kmeans)))\n",
    "print(len(set2_ward.intersection(set2_kmeans)))"
   ]
  },
  {
   "cell_type": "markdown",
   "metadata": {},
   "source": [
    "Итого, соотношение такое (примерно, кластеры не обязаны совпадать на 100%):\n",
    "\n",
    "* кластер 0 по методу Варда – это кластер 0 по методу k-means;\n",
    "* кластер 1 по методу Варда – это кластер 2 по методу k-means;\n",
    "* кластер 2 по методу Варда – это кластер 1 по методу k-means.\n",
    "\n",
    "Пользуясь теми же операциями над множествами, можем узнать, какие районы не входят в наиболее схожие кластеры по итогам той или иной кластеризации:"
   ]
  },
  {
   "cell_type": "code",
   "execution_count": 21,
   "metadata": {},
   "outputs": [
    {
     "name": "stdout",
     "output_type": "stream",
     "text": [
      "set()\n",
      "{'Dorchester/Ashburton', 'Madison/East End', 'Oldtown/Middle East', 'Southwest Baltimore', 'Poppleton/The Terraces/Hollins Market'}\n"
     ]
    }
   ],
   "source": [
    "# метод .difference() – разность на множествах\n",
    "\n",
    "# районы, которые присутствуют в кластере 0 по Варду и отсутствуют в кластере 0 по k-means\n",
    "print(set0_ward.difference(set0_kmeans))\n",
    "\n",
    "# районы, которые присутствуют в кластере 0 по k-means и отсутствуют в кластере 0 по Варду\n",
    "print(set0_kmeans.difference(set0_ward))"
   ]
  },
  {
   "cell_type": "code",
   "execution_count": 22,
   "metadata": {},
   "outputs": [
    {
     "name": "stdout",
     "output_type": "stream",
     "text": [
      "{'Dorchester/Ashburton'}\n",
      "set()\n"
     ]
    }
   ],
   "source": [
    "# районы, которые присутствуют в кластере 1 по Варду и отсутствуют в кластере 2 по k-means\n",
    "print(set1_ward.difference(set2_kmeans))\n",
    "\n",
    "# районы, которые присутствуют в кластере 2 по k-means и отсутствуют в кластере 1 по Варду\n",
    "print(set2_kmeans.difference(set1_ward))"
   ]
  },
  {
   "cell_type": "code",
   "execution_count": 23,
   "metadata": {},
   "outputs": [
    {
     "name": "stdout",
     "output_type": "stream",
     "text": [
      "{'Madison/East End', 'Poppleton/The Terraces/Hollins Market', 'Southwest Baltimore', 'Oldtown/Middle East'}\n",
      "set()\n"
     ]
    }
   ],
   "source": [
    "# районы, которые присутствуют в кластере 2 по Варду и отсутствуют в кластере 1 по k-means\n",
    "print(set2_ward.difference(set1_kmeans))\n",
    "\n",
    "# районы, которые присутствуют в кластере 1 по k-means и отсутствуют в кластере 2 по Варду\n",
    "print(set1_kmeans.difference(set2_ward))"
   ]
  },
  {
   "cell_type": "markdown",
   "metadata": {},
   "source": [
    "Итого: \n",
    "\n",
    "* При кластеризации методом k-means в первый кластер (кластер 0) были включены районы Poppleton/The Terraces/Hollins Market, Dorchester/Ashburton, Madison/East End, Oldtown/Middle East, Southwest Baltimore, при этом никакие районы, определённые в похожую группу методом Варда, выкинуты не были (пустое множество `set()`).\n",
    "\n",
    "* При кластеризации методом k-means во второй кластер (кластер 1) никаких новых районов в эту группу добавлено не было, район Dorchester/Ashburton, который был в похожей группе методом Варда, выкинулся, а точнее, «перетёк» в кластер 0.\n",
    "\n",
    "* При кластеризации методом k-means в третий кластер (кластер 2) тоже никаких новых районов в эту группу добавлено не было, районы Poppleton/The Terraces/Hollins Market, Madison/East End, Southwest Baltimore, Oldtown/Middle East благополучно «перетекли» в кластер 0.\n",
    "\n",
    "О чём это говорит? О том, что глобальных различий между результатами кластеризации методом Варда и методом k-means нет (по идее, и не должно быть, потому что принципы работы методов схожи, оценивается удалённость до центроидов), однако, если нам важно получить содержательно обоснованные группы районов, нужно обратиться к вспомогательным данным и решить, куда всё-таки «перетекающие» районы определить. Руководствоваться можно информацией о социально-экономическом статусе районов, об их истории, о том, какое место они занимали на разных этапах урбанизации города, и так далее. И, конечно, можно нанести полученные результаты группировки на карту (одна карта для метода Варда, вторая – для k-means) и оценить, выглядит ли какое-то деление более логичным с точки зрения географического положения районов. "
   ]
  },
  {
   "cell_type": "markdown",
   "metadata": {},
   "source": [
    "**Дополнительно.** В качестве формального показателя сходства двух различных разделений на группы иногда используют [индекс Ранда](https://en.wikipedia.org/wiki/Rand_index) (*Rand index*) или его скорректированный вариант. Вычисление значения этого индекса подразумевает, что метки групп могут быть разными, поэтому без корректировки этот индекс характеризует долю наблюдений, которые одинаково оказались в одних и тех же/разных группах при разных группировках. Корректировка подразумевает сравнение наблюдаемых значений компонентов индекса с ожидаемыми на основе таблицы сопряжённости. Без корректировки индекс принимает значения от 0 до 1, где 1 соответствует высокой степени совпадений между двумя группировками. С корректировкой логика та же, но индекс иногда может получаться отрицательным. \n",
    "\n",
    "Для вычисления скорректированной версии индекса можно воспользоваться функцией `adjusted_rand_score()` из `sklearn`:"
   ]
  },
  {
   "cell_type": "code",
   "execution_count": 24,
   "metadata": {},
   "outputs": [],
   "source": [
    "from sklearn.metrics.cluster import adjusted_rand_score"
   ]
  },
  {
   "cell_type": "code",
   "execution_count": 25,
   "metadata": {},
   "outputs": [
    {
     "data": {
      "text/plain": [
       "0.7450559911507973"
      ]
     },
     "execution_count": 25,
     "metadata": {},
     "output_type": "execute_result"
    }
   ],
   "source": [
    "# вполне высокая согласованность, что ожидаемо\n",
    "adjusted_rand_score(clusters_kmeans, clusters_ward) "
   ]
  }
 ],
 "metadata": {
  "kernelspec": {
   "display_name": "Python 3",
   "language": "python",
   "name": "python3"
  },
  "language_info": {
   "codemirror_mode": {
    "name": "ipython",
    "version": 3
   },
   "file_extension": ".py",
   "mimetype": "text/x-python",
   "name": "python",
   "nbconvert_exporter": "python",
   "pygments_lexer": "ipython3",
   "version": "3.7.4"
  }
 },
 "nbformat": 4,
 "nbformat_minor": 2
}
